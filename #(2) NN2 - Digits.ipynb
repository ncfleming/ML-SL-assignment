{
 "cells": [
  {
   "cell_type": "code",
   "execution_count": null,
   "metadata": {},
   "outputs": [],
   "source": [
    "#parameter: \n",
    "#the number of layers, \n",
    "#the number of hidden units per layer (start w 1 or 2 hidden layers and possible expend from there)\n",
    "#MLPClassifier (multilayer perceptron)\n",
    "#Features w low weights: less important features or we didn't represent them in a way that NN could use \n"
   ]
  },
  {
   "cell_type": "code",
   "execution_count": 1,
   "metadata": {},
   "outputs": [
    {
     "name": "stdout",
     "output_type": "stream",
     "text": [
      "<bound method BaseEstimator.get_params of MLPClassifier(activation='relu', alpha=0.0001, batch_size='auto', beta_1=0.9,\n",
      "       beta_2=0.999, early_stopping=False, epsilon=1e-08,\n",
      "       hidden_layer_sizes=(100,), learning_rate='constant',\n",
      "       learning_rate_init=0.001, max_iter=200, momentum=0.9,\n",
      "       n_iter_no_change=10, nesterovs_momentum=True, power_t=0.5,\n",
      "       random_state=0, shuffle=True, solver='adam', tol=0.0001,\n",
      "       validation_fraction=0.1, verbose=False, warm_start=False)>\n",
      "MLP train score: 1.000\n",
      "MLP test score: 0.960\n"
     ]
    }
   ],
   "source": [
    "#introduction to machinelearning with python p87 \n",
    "# https://github.com/amueller/introduction_to_ml_with_python/blob/master/02-supervised-learning.ipynb\n",
    "import numpy as np\n",
    "import pandas as pd\n",
    "import seaborn as sns\n",
    "import matplotlib.pyplot as plt\n",
    "#from sklearn.datasets import load_breast_cancer\n",
    "from sklearn.datasets import load_digits\n",
    "from sklearn.model_selection import train_test_split\n",
    "#from sklearn.learning_curve import validation_curve\n",
    "from sklearn.model_selection import cross_val_score\n",
    "from sklearn.model_selection import validation_curve\n",
    "from sklearn.model_selection import learning_curve\n",
    "from sklearn.model_selection import ShuffleSplit\n",
    "from sklearn.metrics import roc_curve, auc\n",
    "\n",
    "from time import time\n",
    "from scipy import stats\n",
    "from scipy.stats import randint as sp_randint\n",
    "from sklearn.model_selection import GridSearchCV\n",
    "from sklearn.model_selection import RandomizedSearchCV\n",
    "from sklearn.pipeline import Pipeline\n",
    "from sklearn.preprocessing import MinMaxScaler\n",
    "\n",
    "from sklearn.neural_network import MLPClassifier\n",
    "#from sklearn.svm import SVC\n",
    "#from sklearn.tree import DecisionTreeClassifier\n",
    "#from sklearn.neighbors import KNeighborsClassifier\n",
    "#from sklearn.ensemble import RandomForestClassifier\n",
    "#from sklearn.ensemble import GradientBoostingClassifier\n",
    "\n",
    "digits = load_digits()\n",
    "X_train, X_test, y_train, y_test = train_test_split(digits.data, digits.target, stratify = digits.target, random_state=0)\n",
    "\n",
    "mlp = MLPClassifier(random_state = 0)\n",
    "mlp.fit(X_train, y_train)\n",
    "print(mlp.get_params)\n",
    "print(\"MLP train score: {:.3f}\".format(mlp.score(X_train, y_train)))\n",
    "print(\"MLP test score: {:.3f}\".format(mlp.score(X_test, y_test)))"
   ]
  },
  {
   "cell_type": "code",
   "execution_count": 8,
   "metadata": {},
   "outputs": [
    {
     "name": "stdout",
     "output_type": "stream",
     "text": [
      "-----------------------\n",
      "time took: 2.978 seconds \n",
      "MLP final score - training (tanh) : 1.000\n",
      "MLP final score - test (tanh) : 0.971\n"
     ]
    }
   ],
   "source": [
    "print(\"-----------------------\")\n",
    "mlp_final = MLPClassifier(max_iter = 1000, activation = 'tanh', random_state = 0)\n",
    "start = time()\n",
    "mlp_final.fit(X_train, y_train)\n",
    "print(\"time took: %.3f seconds \"%(time() - start))  #after fitting\n",
    "print(\"MLP final score - training (tanh) : {:.3f}\".format(mlp_final.score(X_train, y_train)))\n",
    "print(\"MLP final score - test (tanh) : {:.3f}\".format(mlp_final.score(X_test, y_test)))"
   ]
  },
  {
   "cell_type": "markdown",
   "metadata": {},
   "source": [
    "### Grid Search"
   ]
  },
  {
   "cell_type": "code",
   "execution_count": 2,
   "metadata": {},
   "outputs": [
    {
     "name": "stdout",
     "output_type": "stream",
     "text": [
      "***GridSearchCV took 996.20 seconds for 48 candidates parameter settings.\n",
      "Model with rank: 1\n",
      "Mean validation score: 0.981 (std: 0.005)\n",
      "Parameters: {'activation': 'tanh', 'alpha': 0.05, 'hidden_layer_sizes': (100,), 'solver': 'adam'}\n",
      "\n",
      "Model with rank: 2\n",
      "Mean validation score: 0.981 (std: 0.006)\n",
      "Parameters: {'activation': 'tanh', 'alpha': 0.01, 'hidden_layer_sizes': (100,), 'solver': 'adam'}\n",
      "\n",
      "Model with rank: 2\n",
      "Mean validation score: 0.981 (std: 0.006)\n",
      "Parameters: {'activation': 'tanh', 'alpha': 0.005, 'hidden_layer_sizes': (100,), 'solver': 'adam'}\n",
      "\n",
      "Model with rank: 2\n",
      "Mean validation score: 0.981 (std: 0.006)\n",
      "Parameters: {'activation': 'tanh', 'alpha': 0.001, 'hidden_layer_sizes': (100,), 'solver': 'adam'}\n",
      "\n",
      "Model with rank: 5\n",
      "Mean validation score: 0.980 (std: 0.005)\n",
      "Parameters: {'activation': 'tanh', 'alpha': 0.0005, 'hidden_layer_sizes': (100,), 'solver': 'adam'}\n",
      "\n",
      "Model with rank: 5\n",
      "Mean validation score: 0.980 (std: 0.007)\n",
      "Parameters: {'activation': 'tanh', 'alpha': 0.0001, 'hidden_layer_sizes': (100,), 'solver': 'adam'}\n",
      "\n"
     ]
    }
   ],
   "source": [
    "#parameters = {'solver': ['lbfgs'], \n",
    "#'max_iter': [1000,1100,1200,1300,1400,1500,1600,1700,1800,1900,2000 ], \n",
    "#'alpha': 10.0 ** -np.arange(1, 10), 'hidden_layer_sizes':np.arange(10, 15)}\n",
    "\n",
    "#parameters = {'solver': ['lbfgs'], \n",
    "#'max_iter': [1000,1100,1200,1300,1400,1500,1600,1700,1800,1900,2000 ], \n",
    "#'alpha': 10.0 ** -np.arange(1, 10), 'hidden_layer_sizes':np.arange(10, 15)}\n",
    "def report(results, n_top=5):\n",
    "    for i in range(1, n_top + 1):\n",
    "        candidates = np.flatnonzero(results['rank_test_score'] == i)\n",
    "        for candidate in candidates:\n",
    "            print(\"Model with rank: {0}\".format(i))\n",
    "            print(\"Mean validation score: {0:.3f} (std: {1:.3f})\".format(\n",
    "                  results['mean_test_score'][candidate],\n",
    "                  results['std_test_score'][candidate]))\n",
    "            print(\"Parameters: {0}\".format(results['params'][candidate]))\n",
    "            print(\"\")   \n",
    "\n",
    "#---------------------------------------------------------------------------------------------\n",
    "param_grid = {#'learning_rate': ['constant','invscaling','adaptive'],\n",
    "              'hidden_layer_sizes': [(10,10,10), (100,)],# (50,100,50),\n",
    "              #'activation': ['identity', 'logistic', 'tanh', 'relu'],\n",
    "              'activation': ['tanh', 'relu'],\n",
    "              #'solver': ['lbfgs','sgd','adam'],\n",
    "              'solver': ['sgd', 'adam'],\n",
    "              'alpha': [0.05, 0.01, 0.005, 0.001, 0.0005, 0.0001]}\n",
    "              #'alpha': 10.0 ** -np.arange(1, 7)}\n",
    "              #'max_iter': np.arange(1100, 5200, 1000)}\n",
    "\"\"\"\n",
    "param_grid = {#'learning_rate': ['constant','invscaling','adaptive'],\n",
    "              #'hidden_layer_sizes': [(10,10,10), (100,)],# (50,100,50),\n",
    "              #'activation': ['identity', 'logistic', 'tanh', 'relu'],\n",
    "              'activation': ['tanh', 'relu'],\n",
    "              'solver': ['lbfgs','sgd','adam'],\n",
    "              #'solver': ['sgd', 'adam'],\n",
    "              'alpha': [0.05, 0.01, 0.005, 0.001, 0.0005, 0.0001]}\n",
    "              #'alpha': 10.0 ** -np.arange(1, 7)}\n",
    "               #'max_iter': np.arange(1100, 5200, 1000)}\n",
    "               \n",
    "    'hidden_layer_sizes': [(50,50,50), (50,100,50), (100,)],\n",
    "    'activation': ['tanh', 'relu'],\n",
    "    'solver': ['sgd', 'adam'],\n",
    "    'alpha': [0.0001, 0.05],\n",
    "    'learning_rate': ['constant','adaptive'],\"\"\"\n",
    "mlp = MLPClassifier(max_iter = 5000, random_state = 0)    \n",
    "grid_search = GridSearchCV(mlp, param_grid = param_grid, cv = 5)\n",
    "start = time()\n",
    "grid_search.fit(X_train, y_train)\n",
    "print(\"***GridSearchCV took %.2f seconds for %d candidates parameter settings.\"\n",
    "      %((time() - start), len(grid_search.cv_results_['params'])))\n",
    "report(grid_search.cv_results_)"
   ]
  },
  {
   "cell_type": "markdown",
   "metadata": {},
   "source": [
    "### Validation Curve"
   ]
  },
  {
   "cell_type": "code",
   "execution_count": 3,
   "metadata": {},
   "outputs": [
    {
     "data": {
      "image/png": "[encoded data removed]",
      "text/plain": [
       "<Figure size 432x288 with 1 Axes>"
      ]
     },
     "metadata": {
      "needs_background": "light"
     },
     "output_type": "display_data"
    },
    {
     "name": "stdout",
     "output_type": "stream",
     "text": [
      "[1. 1. 1. 1. 1. 1. 1. 1. 1. 1. 1. 1. 1. 1. 1. 1. 1. 1. 1. 1. 1. 1. 1. 1.\n",
      " 1. 1. 1. 1. 1. 1. 1. 1. 1. 1. 1. 1. 1. 1. 1. 1. 1. 1. 1. 1. 1. 1. 1. 1.\n",
      " 1. 1.]\n",
      "[0.97768791 0.97768791 0.97693997 0.97693997 0.97693997 0.97693997\n",
      " 0.97693997 0.97693997 0.97618809 0.97618809 0.97618809 0.97618809\n",
      " 0.97618809 0.97618809 0.97618809 0.97618809 0.97693997 0.97693997\n",
      " 0.97693997 0.97693997 0.97693997 0.97618809 0.97618809 0.97693997\n",
      " 0.97693997 0.97693997 0.97693997 0.97693997 0.97693997 0.97693997\n",
      " 0.97693997 0.97693997 0.97693997 0.97693997 0.97693997 0.97693997\n",
      " 0.97693997 0.97693997 0.97693997 0.97769582 0.97769582 0.97769582\n",
      " 0.97769582 0.97769582 0.97769582 0.97769582 0.97769582 0.97769582\n",
      " 0.97769582 0.97769582]\n",
      "[0.0001 0.0011 0.0021 0.0031 0.0041 0.0051 0.0061 0.0071 0.0081 0.0091\n",
      " 0.0101 0.0111 0.0121 0.0131 0.0141 0.0151 0.0161 0.0171 0.0181 0.0191\n",
      " 0.0201 0.0211 0.0221 0.0231 0.0241 0.0251 0.0261 0.0271 0.0281 0.0291\n",
      " 0.0301 0.0311 0.0321 0.0331 0.0341 0.0351 0.0361 0.0371 0.0381 0.0391\n",
      " 0.0401 0.0411 0.0421 0.0431 0.0441 0.0451 0.0461 0.0471 0.0481 0.0491]\n"
     ]
    }
   ],
   "source": [
    "alpha =  np.arange ( 0.0001, 0.05, 0.001)\n",
    "training_score, val_score = validation_curve(MLPClassifier(max_iter = 5000, activation = 'tanh', random_state = 0), #'relu' \n",
    "                                             X_train, y_train,\n",
    "                                             param_name = \"alpha\", \n",
    "                                             param_range = alpha, cv= 7)\n",
    "## 8 is ideal?\n",
    "train_score_mean = np.mean(training_score, 1)\n",
    "train_score_std = np.std(training_score, 1)\n",
    "val_score_mean = np.mean(val_score, 1)\n",
    "val_score_std = np.std(val_score, 1)\n",
    "plt.title(\"Validation Curve with MLP (tanh)\") \n",
    "plt.xlabel(\"alpha\")\n",
    "plt.ylabel(\"score\")\n",
    "#plt.ylim(0.9,1)\n",
    "lw = 2\n",
    "plt.plot(alpha, train_score_mean, label = 'training score', color = 'darkorange', lw = lw)\n",
    "plt.fill_between(alpha, \n",
    "                 train_score_mean - train_score_std,\n",
    "                 train_score_mean + train_score_std,\n",
    "                 alpha = 0.2, color = 'darkorange', lw = lw)           \n",
    "plt.plot(alpha, val_score_mean, label = 'val score', color = 'navy', lw = lw)\n",
    "plt.fill_between(alpha, \n",
    "                 val_score_mean - val_score_std,\n",
    "                 val_score_mean + val_score_std,\n",
    "                 alpha = 0.2, color = 'navy', lw = lw) \n",
    "plt.legend()\n",
    "plt.show()    \n",
    "print(train_score_mean)\n",
    "print(val_score_mean)\n",
    "print(alpha)"
   ]
  },
  {
   "cell_type": "markdown",
   "metadata": {},
   "source": [
    "### Learning Curve"
   ]
  },
  {
   "cell_type": "code",
   "execution_count": 7,
   "metadata": {},
   "outputs": [
    {
     "data": {
      "text/plain": [
       "<module 'matplotlib.pyplot' from 'c:\\\\users\\\\nfleming\\\\appdata\\\\local\\\\programs\\\\python\\\\python37-32\\\\lib\\\\site-packages\\\\matplotlib\\\\pyplot.py'>"
      ]
     },
     "execution_count": 7,
     "metadata": {},
     "output_type": "execute_result"
    },
    {
     "data": {
      "image/png": "[encoded data removed]",
      "text/plain": [
       "<Figure size 432x288 with 1 Axes>"
      ]
     },
     "metadata": {
      "needs_background": "light"
     },
     "output_type": "display_data"
    }
   ],
   "source": [
    "#learning curve\n",
    "def plot_learning_curve (estimator, title, X,y, ylim = None, cv = None, \n",
    "                         n_jobs = None, train_sizes = np.linspace(.1, 1.0, 5)):\n",
    "    plt.figure()\n",
    "    plt.title(title)\n",
    "    if ylim is not None:\n",
    "        plt.ylim (*ylim)\n",
    "    plt.xlabel (\"Training examples\")\n",
    "    plt.ylabel (\"Score\")\n",
    "    train_sizes, train_scores, test_scores = learning_curve(\n",
    "        estimator, X, y, cv = cv, n_jobs = n_jobs, train_sizes = train_sizes)\n",
    "    train_scores_mean = np.mean(train_scores, axis = 1)\n",
    "    train_scores_std = np.std(train_scores, axis = 1)\n",
    "    test_scores_mean = np.mean(test_scores, axis = 1)\n",
    "    test_scores_std = np.std(test_scores, axis = 1)\n",
    "    plt.grid()\n",
    "    plt.fill_between(train_sizes, train_scores_mean - train_scores_std,\n",
    "                     train_scores_mean + train_scores_std, alpha = 0.1, color = \"r\")\n",
    "    plt.fill_between(train_sizes, test_scores_mean - test_scores_std,\n",
    "                     test_scores_mean + test_scores_std, alpha = 0.1, color = \"g\")\n",
    "    plt.plot(train_sizes, train_scores_mean, 'o-', color = \"r\", label = \"Training score\")\n",
    "    plt.plot(train_sizes, test_scores_mean, 'o-', color = \"g\", label = \"Cross-validation score\")\n",
    "    plt.legend(loc =\"best\")\n",
    "    return plt\n",
    "\n",
    "X, y = X_train, y_train\n",
    "\n",
    "title = \"Learning Curves - MLP: tanh\"\n",
    "cv = ShuffleSplit(n_splits = 100, test_size = 0.2, random_state = 1)\n",
    "estimator = mlp_final\n",
    "plot_learning_curve(estimator, title, X, y, ylim = (0.8, 1.01), cv = cv, n_jobs = 4)"
   ]
  }
 ],
 "metadata": {
  "kernelspec": {
   "display_name": "Python 3",
   "language": "python",
   "name": "python3"
  },
  "language_info": {
   "codemirror_mode": {
    "name": "ipython",
    "version": 3
   },
   "file_extension": ".py",
   "mimetype": "text/x-python",
   "name": "python",
   "nbconvert_exporter": "python",
   "pygments_lexer": "ipython3",
   "version": "3.7.1"
  }
 },
 "nbformat": 4,
 "nbformat_minor": 2
}
