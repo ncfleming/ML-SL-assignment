{
 "cells": [
  {
   "cell_type": "code",
   "execution_count": 1,
   "metadata": {},
   "outputs": [],
   "source": [
    "#parameter: \n",
    "#the number of layers, \n",
    "#the number of hidden units per layer (start w 1 or 2 hidden layers and possible expend from there)\n",
    "#MLPClassifier (multilayer perceptron)\n",
    "#Features w low weights: less important features or we didn't represent them in a way that NN could use \n"
   ]
  },
  {
   "cell_type": "code",
   "execution_count": 2,
   "metadata": {
    "scrolled": true
   },
   "outputs": [
    {
     "name": "stdout",
     "output_type": "stream",
     "text": [
      "<bound method BaseEstimator.get_params of MLPClassifier(activation='relu', alpha=0.0001, batch_size='auto', beta_1=0.9,\n",
      "       beta_2=0.999, early_stopping=False, epsilon=1e-08,\n",
      "       hidden_layer_sizes=(100,), learning_rate='constant',\n",
      "       learning_rate_init=0.001, max_iter=200, momentum=0.9,\n",
      "       n_iter_no_change=10, nesterovs_momentum=True, power_t=0.5,\n",
      "       random_state=0, shuffle=True, solver='adam', tol=0.0001,\n",
      "       validation_fraction=0.1, verbose=False, warm_start=False)>\n",
      "MLP train score: 0.948\n",
      "MLP test score: 0.923\n",
      "MLP AUC score: 0.927\n"
     ]
    }
   ],
   "source": [
    "#introduction to machinelearning with python p87 \n",
    "# https://github.com/amueller/introduction_to_ml_with_python/blob/master/02-supervised-learning.ipynb\n",
    "import numpy as np\n",
    "import pandas as pd\n",
    "import seaborn as sns\n",
    "import matplotlib.pyplot as plt\n",
    "from sklearn.datasets import load_breast_cancer\n",
    "from sklearn.model_selection import train_test_split\n",
    "#from sklearn.learning_curve import validation_curve\n",
    "from sklearn.model_selection import cross_val_score\n",
    "from sklearn.model_selection import validation_curve\n",
    "from sklearn.model_selection import learning_curve\n",
    "from sklearn.model_selection import ShuffleSplit\n",
    "from sklearn.metrics import roc_curve, auc\n",
    "\n",
    "from time import time\n",
    "from scipy import stats\n",
    "from scipy.stats import randint as sp_randint\n",
    "from sklearn.model_selection import GridSearchCV\n",
    "from sklearn.model_selection import RandomizedSearchCV\n",
    "from sklearn.pipeline import Pipeline\n",
    "from sklearn.preprocessing import MinMaxScaler\n",
    "\n",
    "from sklearn.neural_network import MLPClassifier\n",
    "#from sklearn.svm import SVC\n",
    "#from sklearn.tree import DecisionTreeClassifier\n",
    "#from sklearn.neighbors import KNeighborsClassifier\n",
    "#from sklearn.ensemble import RandomForestClassifier\n",
    "#from sklearn.ensemble import GradientBoostingClassifier\n",
    "\n",
    "cancer = load_breast_cancer()\n",
    "X_train, X_test, y_train, y_test = train_test_split(cancer.data, cancer.target, stratify = cancer.target, random_state=0)\n",
    "\n",
    "mlp = MLPClassifier(random_state = 0)\n",
    "mlp.fit(X_train, y_train)\n",
    "print(mlp.get_params)\n",
    "print(\"MLP train score: {:.3f}\".format(mlp.score(X_train, y_train)))\n",
    "print(\"MLP test score: {:.3f}\".format(mlp.score(X_test, y_test)))\n",
    "\n",
    "y_pred = mlp.predict(X_test)\n",
    "false_positive_rate, true_positive_rate, thresholds = roc_curve(y_test, y_pred)\n",
    "roc_auc = auc(false_positive_rate, true_positive_rate)\n",
    "print(\"MLP AUC score: {:.3f}\".format(roc_auc))\n"
   ]
  },
  {
   "cell_type": "markdown",
   "metadata": {},
   "source": [
    "### Data Normalization"
   ]
  },
  {
   "cell_type": "code",
   "execution_count": 3,
   "metadata": {},
   "outputs": [
    {
     "name": "stdout",
     "output_type": "stream",
     "text": [
      "MLP-Scaled train score: 0.998\n",
      "MLP-Scaled test score: 0.958\n"
     ]
    }
   ],
   "source": [
    "#scaling\n",
    "mean_train = X_train.mean(axis=0)\n",
    "std_train = X_train.std(axis=0)\n",
    "X_train_scaled = (X_train - mean_train)/std_train\n",
    "X_test_scaled = (X_test - mean_train)/std_train\n",
    "\n",
    "mlp_scaled = MLPClassifier(max_iter = 5000, random_state = 0)\n",
    "mlp_scaled.fit(X_train_scaled, y_train)\n",
    "print(\"MLP-Scaled train score: {:.3f}\".format(mlp_scaled.score(X_train_scaled, y_train)))\n",
    "print(\"MLP-Scaled test score: {:.3f}\".format(mlp_scaled.score(X_test_scaled, y_test)))"
   ]
  },
  {
   "cell_type": "code",
   "execution_count": 4,
   "metadata": {
    "scrolled": false
   },
   "outputs": [
    {
     "name": "stdout",
     "output_type": "stream",
     "text": [
      "MLP-Scaled train score: 0.998\n",
      "MLP-Scaled test score: 0.958\n",
      "MLP-Scaled AUC score - training set: 0.997\n",
      "MLP-Scaled AUC score - test set: 0.955\n",
      "<bound method BaseEstimator.get_params of MLPClassifier(activation='relu', alpha=0.0001, batch_size='auto', beta_1=0.9,\n",
      "       beta_2=0.999, early_stopping=False, epsilon=1e-08,\n",
      "       hidden_layer_sizes=(100,), learning_rate='constant',\n",
      "       learning_rate_init=0.001, max_iter=5000, momentum=0.9,\n",
      "       n_iter_no_change=10, nesterovs_momentum=True, power_t=0.5,\n",
      "       random_state=0, shuffle=True, solver='adam', tol=0.0001,\n",
      "       validation_fraction=0.1, verbose=False, warm_start=False)>\n"
     ]
    }
   ],
   "source": [
    "mlp_scaled = MLPClassifier(max_iter = 5000, random_state = 0)\n",
    "mlp_scaled.fit(X_train_scaled, y_train)\n",
    "print(\"MLP-Scaled train score: {:.3f}\".format(mlp_scaled.score(X_train_scaled, y_train)))\n",
    "print(\"MLP-Scaled test score: {:.3f}\".format(mlp_scaled.score(X_test_scaled, y_test)))\n",
    "y_pred = mlp_scaled.predict(X_train_scaled)\n",
    "false_positive_rate, true_positive_rate, thresholds = roc_curve(y_train, y_pred)\n",
    "roc_auc = auc(false_positive_rate, true_positive_rate)\n",
    "print(\"MLP-Scaled AUC score - training set: {:.3f}\".format(roc_auc))\n",
    "\n",
    "y_pred = mlp_scaled.predict(X_test_scaled)\n",
    "false_positive_rate, true_positive_rate, thresholds = roc_curve(y_test, y_pred)\n",
    "roc_auc = auc(false_positive_rate, true_positive_rate)\n",
    "print(\"MLP-Scaled AUC score - test set: {:.3f}\".format(roc_auc))\n",
    "\n",
    "\n",
    "print(mlp_scaled.get_params)"
   ]
  },
  {
   "cell_type": "code",
   "execution_count": 5,
   "metadata": {},
   "outputs": [
    {
     "name": "stdout",
     "output_type": "stream",
     "text": [
      "-----------------------\n",
      "time took: 1.798 seconds \n",
      "MLP final score - training (tanh, sgd, alpha:) : 0.991\n",
      "MLP final score - test (tanh, sgd, alpha:) : 0.958\n",
      "-----------------------\n",
      "MLP final AUC score - training set: 0.989\n",
      "MLP final AUC score - test set: 0.955\n"
     ]
    }
   ],
   "source": [
    "print(\"-----------------------\")\n",
    "mlp_scaled_final = MLPClassifier(max_iter = 5000, activation = 'tanh', solver ='sgd',random_state = 0)\n",
    "start = time()\n",
    "mlp_scaled_final.fit(X_train_scaled, y_train)\n",
    "print(\"time took: %.3f seconds \"%(time() - start))  #after fitting\n",
    "print(\"MLP final score - training (tanh, sgd, alpha:) : {:.3f}\".format(mlp_scaled_final.score(X_train_scaled, y_train)))\n",
    "print(\"MLP final score - test (tanh, sgd, alpha:) : {:.3f}\".format(mlp_scaled_final.score(X_test_scaled, y_test)))\n",
    "print(\"-----------------------\")\n",
    "\n",
    "y_pred = mlp_scaled_final.predict(X_train_scaled)\n",
    "false_positive_rate, true_positive_rate, thresholds = roc_curve(y_train, y_pred)\n",
    "roc_auc = auc(false_positive_rate, true_positive_rate)\n",
    "print(\"MLP final AUC score - training set: {:.3f}\".format(roc_auc))\n",
    "\n",
    "y_pred = mlp_scaled_final.predict(X_test_scaled)\n",
    "false_positive_rate, true_positive_rate, thresholds = roc_curve(y_test, y_pred)\n",
    "roc_auc = auc(false_positive_rate, true_positive_rate)\n",
    "print(\"MLP final AUC score - test set: {:.3f}\".format(roc_auc))\n",
    "\n"
   ]
  },
  {
   "cell_type": "markdown",
   "metadata": {},
   "source": [
    "### Grid Search"
   ]
  },
  {
   "cell_type": "code",
   "execution_count": 6,
   "metadata": {
    "scrolled": true
   },
   "outputs": [
    {
     "ename": "SyntaxError",
     "evalue": "invalid syntax (<ipython-input-6-15c76dac2e9d>, line 22)",
     "output_type": "error",
     "traceback": [
      "\u001b[1;36m  File \u001b[1;32m\"<ipython-input-6-15c76dac2e9d>\"\u001b[1;36m, line \u001b[1;32m22\u001b[0m\n\u001b[1;33m    'alpha': param_grid = {#'learning_rate': ['constant','invscaling','adaptive'],\u001b[0m\n\u001b[1;37m                        ^\u001b[0m\n\u001b[1;31mSyntaxError\u001b[0m\u001b[1;31m:\u001b[0m invalid syntax\n"
     ]
    }
   ],
   "source": [
    "#parameters = {'solver': ['lbfgs'], \n",
    "#'max_iter': [1000,1100,1200,1300,1400,1500,1600,1700,1800,1900,2000 ], \n",
    "#'alpha': 10.0 ** -np.arange(1, 10), 'hidden_layer_sizes':np.arange(10, 15)}\n",
    "def report(results, n_top=5):\n",
    "    for i in range(1, n_top + 1):\n",
    "        candidates = np.flatnonzero(results['rank_test_score'] == i)\n",
    "        for candidate in candidates:\n",
    "            print(\"Model with rank: {0}\".format(i))\n",
    "            print(\"Mean validation score: {0:.3f} (std: {1:.3f})\".format(\n",
    "                  results['mean_test_score'][candidate],\n",
    "                  results['std_test_score'][candidate]))\n",
    "            print(\"Parameters: {0}\".format(results['params'][candidate]))\n",
    "            print(\"\")   \n",
    "\n",
    "#---------------------------------------------------------------------------------------------\n",
    "param_grid = {#'learning_rate': ['constant','invscaling','adaptive'],\n",
    "              #'hidden_layer_sizes': [(10,10,10), (100,)],# (50,100,50),\n",
    "              #'activation': ['identity', 'logistic', 'tanh', 'relu'],\n",
    "              'activation': ['tanh', 'relu'],\n",
    "              'solver': ['lbfgs','sgd','adam'],\n",
    "              #'solver': ['sgd', 'adam'],\n",
    "              'alpha': [0.05, 0.01, 0.005, 0.001, 0.0005, 0.0001]}\n",
    "              #'alpha': 10.0 ** -np.arange(1, 7)}\n",
    "               #'max_iter': np.arange(1100, 5200, 1000)}}\n",
    "              #'alpha': 10.0 ** -np.arange(1, 7)}\n",
    "               #'max_iter': np.arange(1100, 5200, 1000)}\n",
    "\"\"\"\n",
    "    'hidden_layer_sizes': [(50,50,50), (50,100,50), (100,)],\n",
    "    'activation': ['tanh', 'relu'],\n",
    "    'solver': ['sgd', 'adam'],\n",
    "    'alpha': [0.0001, 0.05],\n",
    "    'learning_rate': ['constant','adaptive'],\"\"\"\n",
    "    \n",
    "grid_search = GridSearchCV(mlp_scaled, param_grid = param_grid, cv = 5)\n",
    "start = time()\n",
    "grid_search.fit(X_train_scaled, y_train)\n",
    "print(\"***GridSearchCV took %.2f seconds for %d candidates parameter settings.\"\n",
    "      %((time() - start), len(grid_search.cv_results_['params'])))\n",
    "report(grid_search.cv_results_)\n"
   ]
  },
  {
   "cell_type": "code",
   "execution_count": 7,
   "metadata": {},
   "outputs": [
    {
     "name": "stdout",
     "output_type": "stream",
     "text": [
      "***GridSearchCV took 171.75 seconds for 36 candidates parameter settings.\n",
      "Model with rank: 1\n",
      "Mean validation score: 0.986 (std: 0.009)\n",
      "Parameters: {'activation': 'tanh', 'alpha': 0.05, 'solver': 'sgd'}\n",
      "\n",
      "Model with rank: 1\n",
      "Mean validation score: 0.986 (std: 0.009)\n",
      "Parameters: {'activation': 'tanh', 'alpha': 0.01, 'solver': 'sgd'}\n",
      "\n",
      "Model with rank: 1\n",
      "Mean validation score: 0.986 (std: 0.009)\n",
      "Parameters: {'activation': 'tanh', 'alpha': 0.005, 'solver': 'sgd'}\n",
      "\n",
      "Model with rank: 1\n",
      "Mean validation score: 0.986 (std: 0.009)\n",
      "Parameters: {'activation': 'tanh', 'alpha': 0.001, 'solver': 'sgd'}\n",
      "\n",
      "Model with rank: 1\n",
      "Mean validation score: 0.986 (std: 0.009)\n",
      "Parameters: {'activation': 'tanh', 'alpha': 0.0005, 'solver': 'sgd'}\n",
      "\n",
      "Model with rank: 1\n",
      "Mean validation score: 0.986 (std: 0.009)\n",
      "Parameters: {'activation': 'tanh', 'alpha': 0.0001, 'solver': 'sgd'}\n",
      "\n"
     ]
    }
   ],
   "source": [
    "#parameters = {'solver': ['lbfgs'], \n",
    "#'max_iter': [1000,1100,1200,1300,1400,1500,1600,1700,1800,1900,2000 ], \n",
    "#'alpha': 10.0 ** -np.arange(1, 10), 'hidden_layer_sizes':np.arange(10, 15)}\n",
    "def report(results, n_top=5):\n",
    "    for i in range(1, n_top + 1):\n",
    "        candidates = np.flatnonzero(results['rank_test_score'] == i)\n",
    "        for candidate in candidates:\n",
    "            print(\"Model with rank: {0}\".format(i))\n",
    "            print(\"Mean validation score: {0:.3f} (std: {1:.3f})\".format(\n",
    "                  results['mean_test_score'][candidate],\n",
    "                  results['std_test_score'][candidate]))\n",
    "            print(\"Parameters: {0}\".format(results['params'][candidate]))\n",
    "            print(\"\")   \n",
    "\n",
    "#---------------------------------------------------------------------------------------------\n",
    "param_grid = {\n",
    "              'activation': ['tanh', 'relu'],\n",
    "              'solver': ['lbfgs','sgd','adam'],\n",
    "              'alpha': [0.05, 0.01, 0.005, 0.001, 0.0005, 0.0001]}\n",
    "              #'alpha': 10.0 ** -np.arange(1, 7)}\n",
    "               #'max_iter': np.arange(1100, 5200, 1000)}}\n",
    "              #'alpha': 10.0 ** -np.arange(1, 7)}\n",
    "               #'max_iter': np.arange(1100, 5200, 1000)}\n",
    "\"\"\"\n",
    "    'hidden_layer_sizes': [(50,50,50), (50,100,50), (100,)],\n",
    "    'activation': ['tanh', 'relu'],\n",
    "    'solver': ['sgd', 'adam'],\n",
    "    'alpha': [0.0001, 0.05],\n",
    "    'learning_rate': ['constant','adaptive'],\"\"\"\n",
    "    \n",
    "grid_search = GridSearchCV(mlp_scaled, param_grid = param_grid, cv = 5)\n",
    "start = time()\n",
    "grid_search.fit(X_train_scaled, y_train)\n",
    "print(\"***GridSearchCV took %.2f seconds for %d candidates parameter settings.\"\n",
    "      %((time() - start), len(grid_search.cv_results_['params'])))\n",
    "report(grid_search.cv_results_)\n"
   ]
  },
  {
   "cell_type": "code",
   "execution_count": null,
   "metadata": {},
   "outputs": [],
   "source": [
    "\"\"\"param_grid = {'learning_rate': ['constant','invscaling','adaptive'],\n",
    "              'hidden_layer_sizes': [(10,10,10), (100,)],\n",
    "              'activation': ['tanh', 'relu'],\n",
    "              'solver': ['adam'],\n",
    "              'alpha': [0.005, 0.001]}\n",
    "grid_search = GridSearchCV(mlp_scaled, param_grid = param_grid, cv = 5)\n",
    "start = time()\n",
    "grid_search.fit(X_train_scaled, y_train)\n",
    "print(\"***GridSearchCV took %.2f seconds for %d candidates parameter settings.\"\n",
    "      %((time() - start), len(grid_search.cv_results_['params'])))\n",
    "report(grid_search.cv_results_)\"\"\""
   ]
  },
  {
   "cell_type": "markdown",
   "metadata": {},
   "source": [
    "### Validation Curve"
   ]
  },
  {
   "cell_type": "code",
   "execution_count": 8,
   "metadata": {},
   "outputs": [
    {
     "data": {
      "image/png": "[encoded data removed]",
      "text/plain": [
       "<Figure size 432x288 with 1 Axes>"
      ]
     },
     "metadata": {
      "needs_background": "light"
     },
     "output_type": "display_data"
    },
    {
     "name": "stdout",
     "output_type": "stream",
     "text": [
      "[0.98943888 0.98943888 0.98943888 0.98943888 0.98943888 0.98943888\n",
      " 0.98943888 0.98943888 0.98943888 0.98943888 0.98943888 0.98943888\n",
      " 0.98943888 0.98943888 0.98943888 0.98943888 0.98943888 0.98943888\n",
      " 0.98943888 0.98943888 0.98943888 0.98943888 0.98943888 0.98943888\n",
      " 0.98943888 0.98943888 0.98943888 0.98943888 0.98943888 0.98943888\n",
      " 0.98943888 0.98943888 0.98943888 0.98943888 0.98943888 0.98943888\n",
      " 0.98943888 0.98943888 0.98943888 0.98943888 0.98943888 0.98943888\n",
      " 0.98943888 0.98943888 0.98943888 0.98943888 0.98943888 0.98943888\n",
      " 0.98943888 0.98943888]\n",
      "[0.98594722 0.98594722 0.98594722 0.98594722 0.98594722 0.98594722\n",
      " 0.98594722 0.98594722 0.98594722 0.98594722 0.98594722 0.98594722\n",
      " 0.98594722 0.98594722 0.98594722 0.98594722 0.98594722 0.98594722\n",
      " 0.98594722 0.98594722 0.98594722 0.98594722 0.98594722 0.98594722\n",
      " 0.98594722 0.98594722 0.98594722 0.98594722 0.98594722 0.98594722\n",
      " 0.98594722 0.98594722 0.98594722 0.98594722 0.98594722 0.98594722\n",
      " 0.98594722 0.98594722 0.98594722 0.98594722 0.98594722 0.98594722\n",
      " 0.98594722 0.98594722 0.98594722 0.98594722 0.98594722 0.98594722\n",
      " 0.98594722 0.98594722]\n",
      "[0.001 0.002 0.003 0.004 0.005 0.006 0.007 0.008 0.009 0.01  0.011 0.012\n",
      " 0.013 0.014 0.015 0.016 0.017 0.018 0.019 0.02  0.021 0.022 0.023 0.024\n",
      " 0.025 0.026 0.027 0.028 0.029 0.03  0.031 0.032 0.033 0.034 0.035 0.036\n",
      " 0.037 0.038 0.039 0.04  0.041 0.042 0.043 0.044 0.045 0.046 0.047 0.048\n",
      " 0.049 0.05 ]\n"
     ]
    }
   ],
   "source": [
    "alpha =  np.arange ( 0.001, 0.051, 0.001)\n",
    "training_score, val_score = validation_curve(MLPClassifier(max_iter = 5000, activation = 'tanh', solver = 'sgd', random_state = 0), #'relu' \n",
    "                                             X_train_scaled, y_train,\n",
    "                                             param_name = \"alpha\", \n",
    "                                             param_range = alpha, cv= 7)\n",
    "## 8 is ideal?\n",
    "train_score_mean = np.mean(training_score, 1)\n",
    "train_score_std = np.std(training_score, 1)\n",
    "val_score_mean = np.mean(val_score, 1)\n",
    "val_score_std = np.std(val_score, 1)\n",
    "plt.title(\"Validation Curve with MLP (tanh, sgd)\") \n",
    "plt.xlabel(\"alpha\")\n",
    "plt.ylabel(\"score\")\n",
    "#plt.ylim(0.9,1)\n",
    "lw = 2\n",
    "plt.plot(alpha, train_score_mean, label = 'training score', color = 'darkorange', lw = lw)\n",
    "plt.fill_between(alpha, \n",
    "                 train_score_mean - train_score_std,\n",
    "                 train_score_mean + train_score_std,\n",
    "                 alpha = 0.2, color = 'darkorange', lw = lw)           \n",
    "plt.plot(alpha, val_score_mean, label = 'val score', color = 'navy', lw = lw)\n",
    "plt.fill_between(alpha, \n",
    "                 val_score_mean - val_score_std,\n",
    "                 val_score_mean + val_score_std,\n",
    "                 alpha = 0.2, color = 'navy', lw = lw) \n",
    "plt.legend()\n",
    "plt.show()    \n",
    "print(train_score_mean)\n",
    "print(val_score_mean)\n",
    "print(alpha)"
   ]
  },
  {
   "cell_type": "markdown",
   "metadata": {},
   "source": [
    "### Learning Curve"
   ]
  },
  {
   "cell_type": "code",
   "execution_count": null,
   "metadata": {},
   "outputs": [],
   "source": [
    "#learning curve\n",
    "def plot_learning_curve (estimator, title, X,y, ylim = None, cv = None, \n",
    "                         n_jobs = None, train_sizes = np.linspace(.1, 1.0, 5)):\n",
    "    plt.figure()\n",
    "    plt.title(title)\n",
    "    if ylim is not None:\n",
    "        plt.ylim (*ylim)\n",
    "    plt.xlabel (\"Training examples\")\n",
    "    plt.ylabel (\"Score\")\n",
    "    train_sizes, train_scores, test_scores = learning_curve(\n",
    "        estimator, X, y, cv = cv, n_jobs = n_jobs, train_sizes = train_sizes)\n",
    "    train_scores_mean = np.mean(train_scores, axis = 1)\n",
    "    train_scores_std = np.std(train_scores, axis = 1)\n",
    "    test_scores_mean = np.mean(test_scores, axis = 1)\n",
    "    test_scores_std = np.std(test_scores, axis = 1)\n",
    "    plt.grid()\n",
    "    plt.fill_between(train_sizes, train_scores_mean - train_scores_std,\n",
    "                     train_scores_mean + train_scores_std, alpha = 0.1, color = \"r\")\n",
    "    plt.fill_between(train_sizes, test_scores_mean - test_scores_std,\n",
    "                     test_scores_mean + test_scores_std, alpha = 0.1, color = \"g\")\n",
    "    plt.plot(train_sizes, train_scores_mean, 'o-', color = \"r\", label = \"Training score\")\n",
    "    plt.plot(train_sizes, test_scores_mean, 'o-', color = \"g\", label = \"Cross-validation score\")\n",
    "    plt.legend(loc =\"best\")\n",
    "    return plt\n",
    "\n",
    "X, y = X_train_scaled, y_train\n",
    "\n",
    "title = \"Learning Curves - MLP: tanh, sgd\"\n",
    "cv = ShuffleSplit(n_splits = 100, test_size = 0.2, random_state = 1)\n",
    "estimator = mlp_scaled_final\n",
    "plot_learning_curve(estimator, title, X, y, ylim = (0.8, 1.01), cv = cv, n_jobs = 4)"
   ]
  },
  {
   "cell_type": "code",
   "execution_count": null,
   "metadata": {
    "scrolled": true
   },
   "outputs": [],
   "source": [
    "plt.figure(figsize=(20,5))\n",
    "plt.imshow(mlp_scaled.coefs_[0], interpolation = 'none', cmap = 'viridis')\n",
    "plt.yticks(range(30), cancer.feature_names)\n",
    "plt.xlabel(\"Columns in weight matrix\")\n",
    "plt.ylabel(\"Input feature\")\n",
    "plt.colorbar()"
   ]
  },
  {
   "cell_type": "code",
   "execution_count": null,
   "metadata": {},
   "outputs": [],
   "source": [
    "#Parameters: {'alpha': 1e-05, 'hidden_layer_sizes': 10}\n",
    "mlp_scaled1 = MLPClassifier(max_iter = 5000, random_state = 0, alpha =10.0 ** -5, hidden_layer_sizes=10 )\n",
    "mlp_scaled1.fit(X_train_scaled, y_train)\n",
    "print(\"MLP-Scaled1 train score: {:.3f}\".format(mlp_scaled1.score(X_train_scaled, y_train)))\n",
    "print(\"MLP-Scaled1 test score: {:.3f}\".format(mlp_scaled1.score(X_test_scaled, y_test)))\n",
    "print(mlp_scaled1.get_params)"
   ]
  }
 ],
 "metadata": {
  "kernelspec": {
   "display_name": "Python 3",
   "language": "python",
   "name": "python3"
  },
  "language_info": {
   "codemirror_mode": {
    "name": "ipython",
    "version": 3
   },
   "file_extension": ".py",
   "mimetype": "text/x-python",
   "name": "python",
   "nbconvert_exporter": "python",
   "pygments_lexer": "ipython3",
   "version": "3.7.1"
  }
 },
 "nbformat": 4,
 "nbformat_minor": 2
}
