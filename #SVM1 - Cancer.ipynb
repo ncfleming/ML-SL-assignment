{
 "cells": [
  {
   "cell_type": "code",
   "execution_count": null,
   "metadata": {},
   "outputs": [],
   "source": [
    "\"\"\"parameters: c, kernel, gamma\n",
    "c: default: 1\n",
    "kernel: ‘linear’, ‘poly’, ‘rbf’, ‘sigmoid’, ‘precomputed’ or a callable. default: ‘rbf’\n",
    "gamma - rbf, poly, sigmoid\n",
    "\"\"\""
   ]
  },
  {
   "cell_type": "code",
   "execution_count": 16,
   "metadata": {
    "scrolled": true
   },
   "outputs": [
    {
     "name": "stdout",
     "output_type": "stream",
     "text": [
      "SVC train score: 1.000\n",
      "SVC test score: 0.629\n",
      "<bound method BaseEstimator.get_params of SVC(C=1.0, cache_size=200, class_weight=None, coef0=0.0,\n",
      "  decision_function_shape='ovr', degree=3, gamma='auto', kernel='rbf',\n",
      "  max_iter=-1, probability=False, random_state=None, shrinking=True,\n",
      "  tol=0.001, verbose=False)>\n",
      "SVC AUC score: 0.500\n"
     ]
    }
   ],
   "source": [
    "#introduction to machinelearning with python p87 \n",
    "# https://github.com/amueller/introduction_to_ml_with_python/blob/master/02-supervised-learning.ipynb\n",
    "import numpy as np\n",
    "import pandas as pd\n",
    "import seaborn as sns\n",
    "import matplotlib.pyplot as plt\n",
    "from sklearn.datasets import load_breast_cancer\n",
    "from sklearn.model_selection import train_test_split\n",
    "#from sklearn.learning_curve import validation_curve\n",
    "from sklearn.model_selection import cross_val_score\n",
    "from sklearn.model_selection import validation_curve\n",
    "from sklearn.model_selection import learning_curve\n",
    "from sklearn.model_selection import ShuffleSplit\n",
    "from sklearn.metrics import roc_curve, auc\n",
    "\n",
    "from time import time\n",
    "from scipy import stats\n",
    "from scipy.stats import randint as sp_randint\n",
    "from sklearn.model_selection import GridSearchCV\n",
    "from sklearn.model_selection import RandomizedSearchCV\n",
    "from sklearn.pipeline import Pipeline\n",
    "from sklearn.preprocessing import MinMaxScaler\n",
    "\n",
    "#from sklearn.neural_network import MLPClassifier\n",
    "from sklearn.svm import SVC\n",
    "#from sklearn.tree import DecisionTreeClassifier\n",
    "#from sklearn.neighbors import KNeighborsClassifier\n",
    "#from sklearn.ensemble import RandomForestClassifier\n",
    "#from sklearn.ensemble import GradientBoostingClassifier\n",
    "\n",
    "cancer = load_breast_cancer()\n",
    "X_train, X_test, y_train, y_test = train_test_split(cancer.data, cancer.target, stratify = cancer.target, random_state=0)\n",
    "\n",
    "svc_clf = SVC(gamma = 'auto')\n",
    "svc_clf.fit(X_train, y_train)\n",
    "print(\"SVC train score: {:.3f}\".format(svc_clf.score(X_train, y_train)))\n",
    "print(\"SVC test score: {:.3f}\".format(svc_clf.score(X_test, y_test)))\n",
    "print(svc_clf.get_params)\n",
    "\n",
    "y_pred = svc_clf.predict(X_test)\n",
    "false_positive_rate, true_positive_rate, thresholds = roc_curve(y_test, y_pred)\n",
    "roc_auc = auc(false_positive_rate, true_positive_rate)\n",
    "print(\"SVC AUC score: {:.3f}\".format(roc_auc))"
   ]
  },
  {
   "cell_type": "code",
   "execution_count": 2,
   "metadata": {},
   "outputs": [
    {
     "name": "stdout",
     "output_type": "stream",
     "text": [
      "SVC-Scaled train score: 0.993\n",
      "SVC-Scaled test score: 0.958\n",
      "SVC-Scaled AUC score: 0.955\n"
     ]
    }
   ],
   "source": [
    "#scaling\n",
    "mean_train = X_train.mean(axis=0)\n",
    "std_train = X_train.std(axis=0)\n",
    "X_train_scaled = (X_train - mean_train)/std_train\n",
    "X_test_scaled = (X_test - mean_train)/std_train\n",
    "\n",
    "svc_scaled = SVC(random_state = 0)\n",
    "svc_scaled.fit(X_train_scaled, y_train)\n",
    "print(\"SVC-Scaled train score: {:.3f}\".format(svc_scaled.score(X_train_scaled, y_train)))\n",
    "print(\"SVC-Scaled test score: {:.3f}\".format(svc_scaled.score(X_test_scaled, y_test)))\n",
    "y_pred = svc_scaled.predict(X_test_scaled)\n",
    "false_positive_rate, true_positive_rate, thresholds = roc_curve(y_test, y_pred)\n",
    "roc_auc = auc(false_positive_rate, true_positive_rate)\n",
    "print(\"SVC-Scaled AUC score: {:.3f}\".format(roc_auc))"
   ]
  },
  {
   "cell_type": "code",
   "execution_count": 28,
   "metadata": {},
   "outputs": [
    {
     "name": "stdout",
     "output_type": "stream",
     "text": [
      "-----------------------\n",
      "time took: 0.005 seconds \n",
      "SVC-Scaled final score - training (tanh, sgd, alpha:) : 0.993\n",
      "SVC-Scaled final score - test (tanh, sgd, alpha:) : 0.958\n",
      "-----------------------\n",
      "SVC-Scaled final AUC score - training set: 0.992\n",
      "SVC-ScaledP final AUC score - test set: 0.955\n"
     ]
    }
   ],
   "source": [
    "print(\"-----------------------\")\n",
    "svc_scaled_final = SVC(gamma = 'auto', random_state = 0)\n",
    "start = time()\n",
    "svc_scaled_final.fit(X_train_scaled, y_train)\n",
    "print(\"time took: %.3f seconds \"%(time() - start))  #after fitting\n",
    "print(\"SVC-Scaled final score - training (tanh, sgd, alpha:) : {:.3f}\".format(svc_scaled_final.score(X_train_scaled, y_train)))\n",
    "print(\"SVC-Scaled final score - test (tanh, sgd, alpha:) : {:.3f}\".format(svc_scaled_final.score(X_test_scaled, y_test)))\n",
    "print(\"-----------------------\")\n",
    "\n",
    "y_pred = svc_scaled_final.predict(X_train_scaled)\n",
    "false_positive_rate, true_positive_rate, thresholds = roc_curve(y_train, y_pred)\n",
    "roc_auc = auc(false_positive_rate, true_positive_rate)\n",
    "print(\"SVC-Scaled final AUC score - training set: {:.3f}\".format(roc_auc))\n",
    "\n",
    "y_pred = svc_scaled_final.predict(X_test_scaled)\n",
    "false_positive_rate, true_positive_rate, thresholds = roc_curve(y_test, y_pred)\n",
    "roc_auc = auc(false_positive_rate, true_positive_rate)\n",
    "print(\"SVC-ScaledP final AUC score - test set: {:.3f}\".format(roc_auc))"
   ]
  },
  {
   "cell_type": "code",
   "execution_count": 3,
   "metadata": {
    "scrolled": true
   },
   "outputs": [
    {
     "name": "stdout",
     "output_type": "stream",
     "text": [
      "<bound method BaseEstimator.get_params of SVC(C=1.0, cache_size=200, class_weight=None, coef0=0.0,\n",
      "  decision_function_shape='ovr', degree=3, gamma='auto_deprecated',\n",
      "  kernel='rbf', max_iter=-1, probability=False, random_state=0,\n",
      "  shrinking=True, tol=0.001, verbose=False)>\n"
     ]
    }
   ],
   "source": [
    "print(svc_scaled.get_params)"
   ]
  },
  {
   "cell_type": "markdown",
   "metadata": {},
   "source": [
    "### Grid Search"
   ]
  },
  {
   "cell_type": "code",
   "execution_count": 19,
   "metadata": {},
   "outputs": [
    {
     "name": "stdout",
     "output_type": "stream",
     "text": [
      "***GridSearchCV took 2.42 seconds for 45 candidates parameter settings.\n",
      "Model with rank: 1\n",
      "Mean validation score: 0.979 (std: 0.009)\n",
      "Parameters: {'C': 10.0, 'gamma': 0.01, 'kernel': 'rbf'}\n",
      "\n",
      "Model with rank: 2\n",
      "Mean validation score: 0.977 (std: 0.013)\n",
      "Parameters: {'C': 10.0, 'gamma': 0.001, 'kernel': 'rbf'}\n",
      "\n",
      "Model with rank: 3\n",
      "Mean validation score: 0.972 (std: 0.014)\n",
      "Parameters: {'C': 1.0, 'gamma': 0.1, 'kernel': 'rbf'}\n",
      "\n",
      "{'C': array([1.e-03, 1.e-02, 1.e-01, 1.e+00, 1.e+01]), 'kernel': ['poly', 'rbf', 'sigmoid'], 'gamma': array([0.001, 0.01 , 0.1  ])}\n"
     ]
    },
    {
     "name": "stderr",
     "output_type": "stream",
     "text": [
      "c:\\users\\nfleming\\appdata\\local\\programs\\python\\python37-32\\lib\\site-packages\\sklearn\\model_selection\\_search.py:841: DeprecationWarning: The default of the `iid` parameter will change from True to False in version 0.22 and will be removed in 0.24. This will change numeric results when test-set sizes are unequal.\n",
      "  DeprecationWarning)\n"
     ]
    }
   ],
   "source": [
    "#grid search v. randomize search\n",
    "def report(results, n_top=3):\n",
    "    for i in range(1, n_top + 1):\n",
    "        candidates = np.flatnonzero(results['rank_test_score'] == i)\n",
    "        for candidate in candidates:\n",
    "            print(\"Model with rank: {0}\".format(i))\n",
    "            print(\"Mean validation score: {0:.3f} (std: {1:.3f})\".format(\n",
    "                  results['mean_test_score'][candidate],\n",
    "                  results['std_test_score'][candidate]))\n",
    "            print(\"Parameters: {0}\".format(results['params'][candidate]))\n",
    "            print(\"\")   \n",
    "\n",
    "#---------------------------------------------------------------------------------------------\n",
    "param_grid = {'C': 10.0 ** np.arange(-3, 2),\n",
    "              'kernel': [ 'poly', 'rbf', 'sigmoid'], #'linear', 'precomputed'\n",
    "              'gamma':  10.0 ** np.arange(-3, 0)}\n",
    "             #'gamma': ['auto']}\n",
    "            \n",
    "grid_search = GridSearchCV(svc_scaled, param_grid = param_grid, cv = 5)\n",
    "start = time()\n",
    "grid_search.fit(X_train_scaled, y_train)\n",
    "print(\"***GridSearchCV took %.2f seconds for %d candidates parameter settings.\"\n",
    "      %((time() - start), len(grid_search.cv_results_['params'])))\n",
    "report(grid_search.cv_results_)\n",
    "print(param_grid)"
   ]
  },
  {
   "cell_type": "markdown",
   "metadata": {},
   "source": [
    "### Validation Curve\n"
   ]
  },
  {
   "cell_type": "code",
   "execution_count": 27,
   "metadata": {
    "scrolled": true
   },
   "outputs": [
    {
     "name": "stdout",
     "output_type": "stream",
     "text": [
      "[ 0.5  1.   1.5  2.   2.5  3.   3.5  4.   4.5  5.   5.5  6.   6.5  7.\n",
      "  7.5  8.   8.5  9.   9.5 10.  10.5 11.  11.5 12.  12.5 13.  13.5 14.\n",
      " 14.5]\n"
     ]
    },
    {
     "data": {
      "image/png": "[encoded data removed]",
      "text/plain": [
       "<Figure size 432x288 with 1 Axes>"
      ]
     },
     "metadata": {
      "needs_background": "light"
     },
     "output_type": "display_data"
    },
    {
     "name": "stdout",
     "output_type": "stream",
     "text": [
      "[0.98748086 0.99256787 0.99374097 0.99491406 0.99530653 0.99530653\n",
      " 0.99530653 0.99530653 0.99530653 0.99530653 0.99530653 0.99530653\n",
      " 0.99530653 0.99569792 0.99608824 0.99608824 0.99608824 0.99608824\n",
      " 0.99647963 0.99726348 0.99804519 0.99882797 1.         1.\n",
      " 1.         1.         1.         1.         1.        ]\n",
      "[0.98122435 0.9836053  0.9836053  0.9836053  0.9836053  0.9836053\n",
      " 0.9836053  0.98364433 0.98364433 0.98364433 0.98364433 0.98364433\n",
      " 0.98364433 0.98364433 0.98126338 0.98126338 0.98126338 0.97888243\n",
      " 0.98122435 0.98122435 0.97888243 0.97888243 0.97888243 0.97427413\n",
      " 0.97189318 0.97189318 0.97189318 0.97189318 0.97189318]\n"
     ]
    }
   ],
   "source": [
    "#gamma =  np.arange ( 0.001, 0.101, 0.001)\n",
    "c=  np.arange ( 0.5, 15, 0.5)\n",
    "training_score, val_score = validation_curve(SVC(gamma = 'auto', random_state = 0),  \n",
    "                                             X_train_scaled, y_train,\n",
    "                                             param_name = \"C\", \n",
    "                                             param_range = c, cv= 7)\n",
    "print(c)\n",
    "\n",
    "train_score_mean = np.mean(training_score, 1)\n",
    "train_score_std = np.std(training_score, 1)\n",
    "val_score_mean = np.mean(val_score, 1)\n",
    "val_score_std = np.std(val_score, 1)\n",
    "plt.title(\"Validation Curve - SVC\") \n",
    "plt.xlabel(\"c\")\n",
    "plt.ylabel(\"score\")\n",
    "#plt.ylim(0.9,1)\n",
    "lw = 2\n",
    "plt.plot(c, train_score_mean, label = 'training score', color = 'darkorange', lw = lw)\n",
    "plt.fill_between(c, \n",
    "                 train_score_mean - train_score_std,\n",
    "                 train_score_mean + train_score_std,\n",
    "                 alpha = 0.2, color = 'darkorange', lw = lw)           \n",
    "plt.plot(c, val_score_mean, label = 'val score', color = 'navy', lw = lw)\n",
    "plt.fill_between(c, \n",
    "                 val_score_mean - val_score_std,\n",
    "                 val_score_mean + val_score_std,\n",
    "                 alpha = 0.2, color = 'navy', lw = lw) \n",
    "plt.legend()\n",
    "plt.show()    \n",
    "print(train_score_mean)\n",
    "print(val_score_mean)"
   ]
  },
  {
   "cell_type": "code",
   "execution_count": 26,
   "metadata": {},
   "outputs": [
    {
     "name": "stdout",
     "output_type": "stream",
     "text": [
      "[0.001 0.002 0.003 0.004 0.005 0.006 0.007 0.008 0.009 0.01  0.011 0.012\n",
      " 0.013 0.014 0.015 0.016 0.017 0.018 0.019 0.02  0.021 0.022 0.023 0.024\n",
      " 0.025 0.026 0.027 0.028 0.029 0.03  0.031 0.032 0.033 0.034 0.035 0.036\n",
      " 0.037 0.038 0.039 0.04  0.041 0.042 0.043 0.044 0.045 0.046 0.047 0.048\n",
      " 0.049 0.05  0.051 0.052 0.053 0.054 0.055 0.056 0.057 0.058 0.059 0.06\n",
      " 0.061 0.062 0.063 0.064 0.065 0.066 0.067 0.068 0.069 0.07  0.071 0.072\n",
      " 0.073 0.074 0.075 0.076 0.077 0.078 0.079 0.08  0.081 0.082 0.083 0.084\n",
      " 0.085 0.086 0.087 0.088 0.089 0.09  0.091 0.092 0.093 0.094 0.095 0.096\n",
      " 0.097 0.098 0.099 0.1  ]\n"
     ]
    },
    {
     "data": {
      "image/png": "[encoded data removed]",
      "text/plain": [
       "<Figure size 432x288 with 1 Axes>"
      ]
     },
     "metadata": {
      "needs_background": "light"
     },
     "output_type": "display_data"
    },
    {
     "name": "stdout",
     "output_type": "stream",
     "text": [
      "[0.95188361 0.95618463 0.96752423 0.97495421 0.97691009 0.97769609\n",
      " 0.97887241 0.97887134 0.98043583 0.9827831  0.98356481 0.98513144\n",
      " 0.98552283 0.98591422 0.98708947 0.98787332 0.98865503 0.98904749\n",
      " 0.99022274 0.99061306 0.99061306 0.99100338 0.99100338 0.99100338\n",
      " 0.99100338 0.99178509 0.99178509 0.99178509 0.99217648 0.99217648\n",
      " 0.99217648 0.99217648 0.99256787 0.99256787 0.99295926 0.99295926\n",
      " 0.99295926 0.99295926 0.99295926 0.99295926 0.99295926 0.99335065\n",
      " 0.99335065 0.99335065 0.99374097 0.99413235 0.99413235 0.99413235\n",
      " 0.99413235 0.99413235 0.99413235 0.99413235 0.99413235 0.99413235\n",
      " 0.99413235 0.99413235 0.99413235 0.99413235 0.99452374 0.99452374\n",
      " 0.99491406 0.99491406 0.99491406 0.99491406 0.99491406 0.99491406\n",
      " 0.99491406 0.99491406 0.99491406 0.99491406 0.99491406 0.99530653\n",
      " 0.99530653 0.99530653 0.99530653 0.99530653 0.99530653 0.99530653\n",
      " 0.99530653 0.99530653 0.99530653 0.99530653 0.99530653 0.99530653\n",
      " 0.99530653 0.99530653 0.99530653 0.99530653 0.99530653 0.99530653\n",
      " 0.99530653 0.99530653 0.99530653 0.99530653 0.99530653 0.99530653\n",
      " 0.99530653 0.99530653 0.99530653 0.99530653]\n",
      "[0.94858729 0.95327113 0.95565083 0.96724711 0.96494296 0.96955126\n",
      " 0.96720934 0.96720934 0.97185541 0.97657828 0.97657828 0.97657828\n",
      " 0.9789202  0.97657828 0.97657828 0.9789202  0.97657828 0.97657828\n",
      " 0.97657828 0.97657828 0.97657828 0.97657828 0.97657828 0.97888243\n",
      " 0.97888243 0.97888243 0.97888243 0.97888243 0.98126338 0.98126338\n",
      " 0.9836053  0.9836053  0.9836053  0.9836053  0.9836053  0.9836053\n",
      " 0.9836053  0.9836053  0.9836053  0.9836053  0.9836053  0.9836053\n",
      " 0.9836053  0.9836053  0.9836053  0.98130115 0.98130115 0.98130115\n",
      " 0.98130115 0.97895923 0.97895923 0.97895923 0.97895923 0.97665508\n",
      " 0.97665508 0.97665508 0.97665508 0.97665508 0.97665508 0.97665508\n",
      " 0.97665508 0.97665508 0.97665508 0.97665508 0.97665508 0.97665508\n",
      " 0.97665508 0.97665508 0.97665508 0.97665508 0.97431316 0.97193221\n",
      " 0.97193221 0.97193221 0.97193221 0.97193221 0.97193221 0.97193221\n",
      " 0.97193221 0.97193221 0.97193221 0.97193221 0.97193221 0.97193221\n",
      " 0.97193221 0.97193221 0.97193221 0.96959029 0.96959029 0.96959029\n",
      " 0.96959029 0.96959029 0.96959029 0.96959029 0.96959029 0.96959029\n",
      " 0.97193221 0.97193221 0.97193221 0.97193221]\n"
     ]
    }
   ],
   "source": [
    "gamma =  np.arange ( 0.001, 0.101, 0.001)\n",
    "#c=  np.arange ( 0.5, 15, 0.5)\n",
    "training_score, val_score = validation_curve(SVC(random_state = 0),  \n",
    "                                             X_train_scaled, y_train,\n",
    "                                             param_name = \"gamma\", \n",
    "                                             param_range = gamma, cv= 7)\n",
    "print(gamma)\n",
    "\n",
    "train_score_mean = np.mean(training_score, 1)\n",
    "train_score_std = np.std(training_score, 1)\n",
    "val_score_mean = np.mean(val_score, 1)\n",
    "val_score_std = np.std(val_score, 1)\n",
    "plt.title(\"Validation Curve - SVC\") \n",
    "plt.xlabel(\"gamma\")\n",
    "plt.ylabel(\"score\")\n",
    "#plt.ylim(0.9,1)\n",
    "lw = 2\n",
    "plt.plot(gamma, train_score_mean, label = 'training score', color = 'darkorange', lw = lw)\n",
    "plt.fill_between(gamma, \n",
    "                 train_score_mean - train_score_std,\n",
    "                 train_score_mean + train_score_std,\n",
    "                 alpha = 0.2, color = 'darkorange', lw = lw)           \n",
    "plt.plot(gamma, val_score_mean, label = 'val score', color = 'navy', lw = lw)\n",
    "plt.fill_between(gamma, \n",
    "                 val_score_mean - val_score_std,\n",
    "                 val_score_mean + val_score_std,\n",
    "                 alpha = 0.2, color = 'navy', lw = lw) \n",
    "plt.legend()\n",
    "plt.show()    \n",
    "print(train_score_mean)\n",
    "print(val_score_mean)"
   ]
  },
  {
   "cell_type": "markdown",
   "metadata": {},
   "source": [
    "### Learning Curve"
   ]
  },
  {
   "cell_type": "code",
   "execution_count": 32,
   "metadata": {},
   "outputs": [
    {
     "data": {
      "text/plain": [
       "<module 'matplotlib.pyplot' from 'c:\\\\users\\\\nfleming\\\\appdata\\\\local\\\\programs\\\\python\\\\python37-32\\\\lib\\\\site-packages\\\\matplotlib\\\\pyplot.py'>"
      ]
     },
     "execution_count": 32,
     "metadata": {},
     "output_type": "execute_result"
    },
    {
     "data": {
      "image/png": "[encoded data removed]",
      "text/plain": [
       "<Figure size 432x288 with 1 Axes>"
      ]
     },
     "metadata": {
      "needs_background": "light"
     },
     "output_type": "display_data"
    }
   ],
   "source": [
    "#learning curve\n",
    "def plot_learning_curve (estimator, title, X,y, ylim = None, cv = None, \n",
    "                         n_jobs = None, train_sizes = np.linspace(.1, 1.0, 5)):\n",
    "    plt.figure()\n",
    "    plt.title(title)\n",
    "    if ylim is not None:\n",
    "        plt.ylim (*ylim)\n",
    "    plt.xlabel (\"Training examples\")\n",
    "    plt.ylabel (\"Score\")\n",
    "    train_sizes, train_scores, test_scores = learning_curve(\n",
    "        estimator, X, y, cv = cv, n_jobs = n_jobs, train_sizes = train_sizes)\n",
    "    train_scores_mean = np.mean(train_scores, axis = 1)\n",
    "    train_scores_std = np.std(train_scores, axis = 1)\n",
    "    test_scores_mean = np.mean(test_scores, axis = 1)\n",
    "    test_scores_std = np.std(test_scores, axis = 1)\n",
    "    plt.grid()\n",
    "    plt.fill_between(train_sizes, train_scores_mean - train_scores_std,\n",
    "                     train_scores_mean + train_scores_std, alpha = 0.1, color = \"r\")\n",
    "    plt.fill_between(train_sizes, test_scores_mean - test_scores_std,\n",
    "                     test_scores_mean + test_scores_std, alpha = 0.1, color = \"g\")\n",
    "    plt.plot(train_sizes, train_scores_mean, 'o-', color = \"r\", label = \"Training score\")\n",
    "    plt.plot(train_sizes, test_scores_mean, 'o-', color = \"g\", label = \"Cross-validation score\")\n",
    "    plt.legend(loc =\"best\")\n",
    "    return plt\n",
    "\n",
    "X, y = X_train_scaled, y_train\n",
    "\n",
    "title = \"Learning Curves - SVM\"\n",
    "cv = ShuffleSplit(n_splits = 100, test_size = 0.2, random_state = 1)\n",
    "estimator = svc_scaled_final\n",
    "plot_learning_curve(estimator, title, X, y, cv = cv, n_jobs = 4)"
   ]
  }
 ],
 "metadata": {
  "kernelspec": {
   "display_name": "Python 3",
   "language": "python",
   "name": "python3"
  },
  "language_info": {
   "codemirror_mode": {
    "name": "ipython",
    "version": 3
   },
   "file_extension": ".py",
   "mimetype": "text/x-python",
   "name": "python",
   "nbconvert_exporter": "python",
   "pygments_lexer": "ipython3",
   "version": "3.7.1"
  }
 },
 "nbformat": 4,
 "nbformat_minor": 2
}
